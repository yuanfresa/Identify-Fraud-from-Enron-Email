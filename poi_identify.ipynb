{
 "cells": [
  {
   "cell_type": "markdown",
   "metadata": {},
   "source": [
    "# Identify Fraud from Enron Email by Yuan Zhou"
   ]
  },
  {
   "cell_type": "markdown",
   "metadata": {},
   "source": [
    "## Background"
   ]
  },
  {
   "cell_type": "markdown",
   "metadata": {},
   "source": [
    "In 2000, Enron was one of the largest companies in the United States. By 2002, it had collapsed into bankruptcy due to widespread corporate fraud. In the resulting Federal investigation, a significant amount of typically confidential information entered into the public record, including tens of thousands of emails and detailed financial data for top executives. \n",
    "\n",
    "In this project, my goal is to play detective, and use my new machine learning skills by building a person of interest(POI) identifier based on financial and email data made public as a result of the Enron scandal based on the assumption that POIs were involved in fraud for high probalitity. The process of this project is going through as what summaried in the course, starting with the dataset exploration, the features are extracted to feed into several machine learning algorithm which will be tuned for final validation and evaluation."
   ]
  },
  {
   "cell_type": "markdown",
   "metadata": {},
   "source": [
    "## Dataset Understanding"
   ]
  },
  {
   "cell_type": "code",
   "execution_count": 1,
   "metadata": {},
   "outputs": [
    {
     "data": {
      "text/html": [
       "<button onclick=\"$('.input, .prompt, .output_stderr, .output_error').toggle();\">Toggle Code</button>"
      ],
      "text/plain": [
       "<IPython.core.display.HTML object>"
      ]
     },
     "metadata": {},
     "output_type": "display_data"
    }
   ],
   "source": [
    "%%HTML\n",
    "<button onclick=\"$('.input, .prompt, .output_stderr, .output_error').toggle();\">Toggle Code</button>"
   ]
  },
  {
   "cell_type": "code",
   "execution_count": 2,
   "metadata": {},
   "outputs": [
    {
     "name": "stderr",
     "output_type": "stream",
     "text": [
      "/anaconda/envs/DataA/lib/python2.7/site-packages/sklearn/cross_validation.py:41: DeprecationWarning: This module was deprecated in version 0.18 in favor of the model_selection module into which all the refactored classes and functions are moved. Also note that the interface of the new CV iterators are different from that of this module. This module will be removed in 0.20.\n",
      "  \"This module will be removed in 0.20.\", DeprecationWarning)\n"
     ]
    }
   ],
   "source": [
    "import pickle\n",
    "import sys\n",
    "sys.path.append(\"../tools/\")\n",
    "import pandas as pd\n",
    "import numpy as np\n",
    "import matplotlib.pyplot as plt\n",
    "from feature_format import featureFormat, targetFeatureSplit\n",
    "from sklearn import cross_validation\n",
    "from sklearn.feature_selection import SelectKBest, f_classif# Perform feature selection"
   ]
  },
  {
   "cell_type": "markdown",
   "metadata": {},
   "source": [
    "To explore the dataset in a more convenient way, the dasaset is converted to dataframe. The first 5 data points are list below"
   ]
  },
  {
   "cell_type": "code",
   "execution_count": 3,
   "metadata": {
    "collapsed": true
   },
   "outputs": [],
   "source": [
    "### Load the dictionary containing the dataset\n",
    "with open(\"final_project_dataset.pkl\", \"r\") as data_file:\n",
    "    data_dict = pickle.load(data_file)\n",
    "\n",
    "enron_data = pd.DataFrame.from_dict(data_dict, orient = 'index')"
   ]
  },
  {
   "cell_type": "code",
   "execution_count": 4,
   "metadata": {},
   "outputs": [
    {
     "data": {
      "text/html": [
       "<div>\n",
       "<style scoped>\n",
       "    .dataframe tbody tr th:only-of-type {\n",
       "        vertical-align: middle;\n",
       "    }\n",
       "\n",
       "    .dataframe tbody tr th {\n",
       "        vertical-align: top;\n",
       "    }\n",
       "\n",
       "    .dataframe thead th {\n",
       "        text-align: right;\n",
       "    }\n",
       "</style>\n",
       "<table border=\"1\" class=\"dataframe\">\n",
       "  <thead>\n",
       "    <tr style=\"text-align: right;\">\n",
       "      <th></th>\n",
       "      <th>salary</th>\n",
       "      <th>to_messages</th>\n",
       "      <th>deferral_payments</th>\n",
       "      <th>total_payments</th>\n",
       "      <th>exercised_stock_options</th>\n",
       "      <th>bonus</th>\n",
       "      <th>restricted_stock</th>\n",
       "      <th>shared_receipt_with_poi</th>\n",
       "      <th>restricted_stock_deferred</th>\n",
       "      <th>total_stock_value</th>\n",
       "      <th>...</th>\n",
       "      <th>loan_advances</th>\n",
       "      <th>from_messages</th>\n",
       "      <th>other</th>\n",
       "      <th>from_this_person_to_poi</th>\n",
       "      <th>poi</th>\n",
       "      <th>director_fees</th>\n",
       "      <th>deferred_income</th>\n",
       "      <th>long_term_incentive</th>\n",
       "      <th>email_address</th>\n",
       "      <th>from_poi_to_this_person</th>\n",
       "    </tr>\n",
       "  </thead>\n",
       "  <tbody>\n",
       "    <tr>\n",
       "      <th>ALLEN PHILLIP K</th>\n",
       "      <td>201955</td>\n",
       "      <td>2902</td>\n",
       "      <td>2869717</td>\n",
       "      <td>4484442</td>\n",
       "      <td>1729541</td>\n",
       "      <td>4175000</td>\n",
       "      <td>126027</td>\n",
       "      <td>1407</td>\n",
       "      <td>-126027</td>\n",
       "      <td>1729541</td>\n",
       "      <td>...</td>\n",
       "      <td>NaN</td>\n",
       "      <td>2195</td>\n",
       "      <td>152</td>\n",
       "      <td>65</td>\n",
       "      <td>False</td>\n",
       "      <td>NaN</td>\n",
       "      <td>-3081055</td>\n",
       "      <td>304805</td>\n",
       "      <td>phillip.allen@enron.com</td>\n",
       "      <td>47</td>\n",
       "    </tr>\n",
       "    <tr>\n",
       "      <th>BADUM JAMES P</th>\n",
       "      <td>NaN</td>\n",
       "      <td>NaN</td>\n",
       "      <td>178980</td>\n",
       "      <td>182466</td>\n",
       "      <td>257817</td>\n",
       "      <td>NaN</td>\n",
       "      <td>NaN</td>\n",
       "      <td>NaN</td>\n",
       "      <td>NaN</td>\n",
       "      <td>257817</td>\n",
       "      <td>...</td>\n",
       "      <td>NaN</td>\n",
       "      <td>NaN</td>\n",
       "      <td>NaN</td>\n",
       "      <td>NaN</td>\n",
       "      <td>False</td>\n",
       "      <td>NaN</td>\n",
       "      <td>NaN</td>\n",
       "      <td>NaN</td>\n",
       "      <td>NaN</td>\n",
       "      <td>NaN</td>\n",
       "    </tr>\n",
       "    <tr>\n",
       "      <th>BANNANTINE JAMES M</th>\n",
       "      <td>477</td>\n",
       "      <td>566</td>\n",
       "      <td>NaN</td>\n",
       "      <td>916197</td>\n",
       "      <td>4046157</td>\n",
       "      <td>NaN</td>\n",
       "      <td>1757552</td>\n",
       "      <td>465</td>\n",
       "      <td>-560222</td>\n",
       "      <td>5243487</td>\n",
       "      <td>...</td>\n",
       "      <td>NaN</td>\n",
       "      <td>29</td>\n",
       "      <td>864523</td>\n",
       "      <td>0</td>\n",
       "      <td>False</td>\n",
       "      <td>NaN</td>\n",
       "      <td>-5104</td>\n",
       "      <td>NaN</td>\n",
       "      <td>james.bannantine@enron.com</td>\n",
       "      <td>39</td>\n",
       "    </tr>\n",
       "    <tr>\n",
       "      <th>BAXTER JOHN C</th>\n",
       "      <td>267102</td>\n",
       "      <td>NaN</td>\n",
       "      <td>1295738</td>\n",
       "      <td>5634343</td>\n",
       "      <td>6680544</td>\n",
       "      <td>1200000</td>\n",
       "      <td>3942714</td>\n",
       "      <td>NaN</td>\n",
       "      <td>NaN</td>\n",
       "      <td>10623258</td>\n",
       "      <td>...</td>\n",
       "      <td>NaN</td>\n",
       "      <td>NaN</td>\n",
       "      <td>2660303</td>\n",
       "      <td>NaN</td>\n",
       "      <td>False</td>\n",
       "      <td>NaN</td>\n",
       "      <td>-1386055</td>\n",
       "      <td>1586055</td>\n",
       "      <td>NaN</td>\n",
       "      <td>NaN</td>\n",
       "    </tr>\n",
       "    <tr>\n",
       "      <th>BAY FRANKLIN R</th>\n",
       "      <td>239671</td>\n",
       "      <td>NaN</td>\n",
       "      <td>260455</td>\n",
       "      <td>827696</td>\n",
       "      <td>NaN</td>\n",
       "      <td>400000</td>\n",
       "      <td>145796</td>\n",
       "      <td>NaN</td>\n",
       "      <td>-82782</td>\n",
       "      <td>63014</td>\n",
       "      <td>...</td>\n",
       "      <td>NaN</td>\n",
       "      <td>NaN</td>\n",
       "      <td>69</td>\n",
       "      <td>NaN</td>\n",
       "      <td>False</td>\n",
       "      <td>NaN</td>\n",
       "      <td>-201641</td>\n",
       "      <td>NaN</td>\n",
       "      <td>frank.bay@enron.com</td>\n",
       "      <td>NaN</td>\n",
       "    </tr>\n",
       "  </tbody>\n",
       "</table>\n",
       "<p>5 rows × 21 columns</p>\n",
       "</div>"
      ],
      "text/plain": [
       "                    salary to_messages deferral_payments total_payments  \\\n",
       "ALLEN PHILLIP K     201955        2902           2869717        4484442   \n",
       "BADUM JAMES P          NaN         NaN            178980         182466   \n",
       "BANNANTINE JAMES M     477         566               NaN         916197   \n",
       "BAXTER JOHN C       267102         NaN           1295738        5634343   \n",
       "BAY FRANKLIN R      239671         NaN            260455         827696   \n",
       "\n",
       "                   exercised_stock_options    bonus restricted_stock  \\\n",
       "ALLEN PHILLIP K                    1729541  4175000           126027   \n",
       "BADUM JAMES P                       257817      NaN              NaN   \n",
       "BANNANTINE JAMES M                 4046157      NaN          1757552   \n",
       "BAXTER JOHN C                      6680544  1200000          3942714   \n",
       "BAY FRANKLIN R                         NaN   400000           145796   \n",
       "\n",
       "                   shared_receipt_with_poi restricted_stock_deferred  \\\n",
       "ALLEN PHILLIP K                       1407                   -126027   \n",
       "BADUM JAMES P                          NaN                       NaN   \n",
       "BANNANTINE JAMES M                     465                   -560222   \n",
       "BAXTER JOHN C                          NaN                       NaN   \n",
       "BAY FRANKLIN R                         NaN                    -82782   \n",
       "\n",
       "                   total_stock_value           ...           loan_advances  \\\n",
       "ALLEN PHILLIP K              1729541           ...                     NaN   \n",
       "BADUM JAMES P                 257817           ...                     NaN   \n",
       "BANNANTINE JAMES M           5243487           ...                     NaN   \n",
       "BAXTER JOHN C               10623258           ...                     NaN   \n",
       "BAY FRANKLIN R                 63014           ...                     NaN   \n",
       "\n",
       "                   from_messages    other from_this_person_to_poi    poi  \\\n",
       "ALLEN PHILLIP K             2195      152                      65  False   \n",
       "BADUM JAMES P                NaN      NaN                     NaN  False   \n",
       "BANNANTINE JAMES M            29   864523                       0  False   \n",
       "BAXTER JOHN C                NaN  2660303                     NaN  False   \n",
       "BAY FRANKLIN R               NaN       69                     NaN  False   \n",
       "\n",
       "                    director_fees deferred_income long_term_incentive  \\\n",
       "ALLEN PHILLIP K               NaN        -3081055              304805   \n",
       "BADUM JAMES P                 NaN             NaN                 NaN   \n",
       "BANNANTINE JAMES M            NaN           -5104                 NaN   \n",
       "BAXTER JOHN C                 NaN        -1386055             1586055   \n",
       "BAY FRANKLIN R                NaN         -201641                 NaN   \n",
       "\n",
       "                                 email_address from_poi_to_this_person  \n",
       "ALLEN PHILLIP K        phillip.allen@enron.com                      47  \n",
       "BADUM JAMES P                              NaN                     NaN  \n",
       "BANNANTINE JAMES M  james.bannantine@enron.com                      39  \n",
       "BAXTER JOHN C                              NaN                     NaN  \n",
       "BAY FRANKLIN R             frank.bay@enron.com                     NaN  \n",
       "\n",
       "[5 rows x 21 columns]"
      ]
     },
     "execution_count": 4,
     "metadata": {},
     "output_type": "execute_result"
    }
   ],
   "source": [
    "enron_data.head()"
   ]
  },
  {
   "cell_type": "code",
   "execution_count": 5,
   "metadata": {},
   "outputs": [
    {
     "name": "stdout",
     "output_type": "stream",
     "text": [
      "Total number of data points :  146\n",
      "Total number of features :  21\n"
     ]
    }
   ],
   "source": [
    "print \"Total number of data points : \", len(enron_data.index)\n",
    "print \"Total number of features : \", len(enron_data.columns)"
   ]
  },
  {
   "cell_type": "markdown",
   "metadata": {},
   "source": [
    "The dataset is consist of 146 data points, and for each point, it has 21 features, including 14 financial features, 6 e-mail features and 1 POI label. \n",
    "\n",
    "The missing value are denoted as \"NaN\". As shown in the summary table of each feature value below, we found that there are a lot missing vaules for almost every feature except __poi__."
   ]
  },
  {
   "cell_type": "code",
   "execution_count": 6,
   "metadata": {},
   "outputs": [
    {
     "data": {
      "text/html": [
       "<div>\n",
       "<style scoped>\n",
       "    .dataframe tbody tr th:only-of-type {\n",
       "        vertical-align: middle;\n",
       "    }\n",
       "\n",
       "    .dataframe tbody tr th {\n",
       "        vertical-align: top;\n",
       "    }\n",
       "\n",
       "    .dataframe thead th {\n",
       "        text-align: right;\n",
       "    }\n",
       "</style>\n",
       "<table border=\"1\" class=\"dataframe\">\n",
       "  <thead>\n",
       "    <tr style=\"text-align: right;\">\n",
       "      <th></th>\n",
       "      <th>count</th>\n",
       "      <th>unique</th>\n",
       "      <th>top</th>\n",
       "      <th>freq</th>\n",
       "    </tr>\n",
       "  </thead>\n",
       "  <tbody>\n",
       "    <tr>\n",
       "      <th>salary</th>\n",
       "      <td>146</td>\n",
       "      <td>95</td>\n",
       "      <td>NaN</td>\n",
       "      <td>51</td>\n",
       "    </tr>\n",
       "    <tr>\n",
       "      <th>to_messages</th>\n",
       "      <td>146</td>\n",
       "      <td>87</td>\n",
       "      <td>NaN</td>\n",
       "      <td>60</td>\n",
       "    </tr>\n",
       "    <tr>\n",
       "      <th>deferral_payments</th>\n",
       "      <td>146</td>\n",
       "      <td>40</td>\n",
       "      <td>NaN</td>\n",
       "      <td>107</td>\n",
       "    </tr>\n",
       "    <tr>\n",
       "      <th>total_payments</th>\n",
       "      <td>146</td>\n",
       "      <td>126</td>\n",
       "      <td>NaN</td>\n",
       "      <td>21</td>\n",
       "    </tr>\n",
       "    <tr>\n",
       "      <th>exercised_stock_options</th>\n",
       "      <td>146</td>\n",
       "      <td>102</td>\n",
       "      <td>NaN</td>\n",
       "      <td>44</td>\n",
       "    </tr>\n",
       "    <tr>\n",
       "      <th>bonus</th>\n",
       "      <td>146</td>\n",
       "      <td>42</td>\n",
       "      <td>NaN</td>\n",
       "      <td>64</td>\n",
       "    </tr>\n",
       "    <tr>\n",
       "      <th>restricted_stock</th>\n",
       "      <td>146</td>\n",
       "      <td>98</td>\n",
       "      <td>NaN</td>\n",
       "      <td>36</td>\n",
       "    </tr>\n",
       "    <tr>\n",
       "      <th>shared_receipt_with_poi</th>\n",
       "      <td>146</td>\n",
       "      <td>84</td>\n",
       "      <td>NaN</td>\n",
       "      <td>60</td>\n",
       "    </tr>\n",
       "    <tr>\n",
       "      <th>restricted_stock_deferred</th>\n",
       "      <td>146</td>\n",
       "      <td>19</td>\n",
       "      <td>NaN</td>\n",
       "      <td>128</td>\n",
       "    </tr>\n",
       "    <tr>\n",
       "      <th>total_stock_value</th>\n",
       "      <td>146</td>\n",
       "      <td>125</td>\n",
       "      <td>NaN</td>\n",
       "      <td>20</td>\n",
       "    </tr>\n",
       "    <tr>\n",
       "      <th>expenses</th>\n",
       "      <td>146</td>\n",
       "      <td>95</td>\n",
       "      <td>NaN</td>\n",
       "      <td>51</td>\n",
       "    </tr>\n",
       "    <tr>\n",
       "      <th>loan_advances</th>\n",
       "      <td>146</td>\n",
       "      <td>5</td>\n",
       "      <td>NaN</td>\n",
       "      <td>142</td>\n",
       "    </tr>\n",
       "    <tr>\n",
       "      <th>from_messages</th>\n",
       "      <td>146</td>\n",
       "      <td>65</td>\n",
       "      <td>NaN</td>\n",
       "      <td>60</td>\n",
       "    </tr>\n",
       "    <tr>\n",
       "      <th>other</th>\n",
       "      <td>146</td>\n",
       "      <td>93</td>\n",
       "      <td>NaN</td>\n",
       "      <td>53</td>\n",
       "    </tr>\n",
       "    <tr>\n",
       "      <th>from_this_person_to_poi</th>\n",
       "      <td>146</td>\n",
       "      <td>42</td>\n",
       "      <td>NaN</td>\n",
       "      <td>60</td>\n",
       "    </tr>\n",
       "    <tr>\n",
       "      <th>poi</th>\n",
       "      <td>146</td>\n",
       "      <td>2</td>\n",
       "      <td>False</td>\n",
       "      <td>128</td>\n",
       "    </tr>\n",
       "    <tr>\n",
       "      <th>director_fees</th>\n",
       "      <td>146</td>\n",
       "      <td>18</td>\n",
       "      <td>NaN</td>\n",
       "      <td>129</td>\n",
       "    </tr>\n",
       "    <tr>\n",
       "      <th>deferred_income</th>\n",
       "      <td>146</td>\n",
       "      <td>45</td>\n",
       "      <td>NaN</td>\n",
       "      <td>97</td>\n",
       "    </tr>\n",
       "    <tr>\n",
       "      <th>long_term_incentive</th>\n",
       "      <td>146</td>\n",
       "      <td>53</td>\n",
       "      <td>NaN</td>\n",
       "      <td>80</td>\n",
       "    </tr>\n",
       "    <tr>\n",
       "      <th>email_address</th>\n",
       "      <td>146</td>\n",
       "      <td>112</td>\n",
       "      <td>NaN</td>\n",
       "      <td>35</td>\n",
       "    </tr>\n",
       "    <tr>\n",
       "      <th>from_poi_to_this_person</th>\n",
       "      <td>146</td>\n",
       "      <td>58</td>\n",
       "      <td>NaN</td>\n",
       "      <td>60</td>\n",
       "    </tr>\n",
       "  </tbody>\n",
       "</table>\n",
       "</div>"
      ],
      "text/plain": [
       "                          count unique    top freq\n",
       "salary                      146     95    NaN   51\n",
       "to_messages                 146     87    NaN   60\n",
       "deferral_payments           146     40    NaN  107\n",
       "total_payments              146    126    NaN   21\n",
       "exercised_stock_options     146    102    NaN   44\n",
       "bonus                       146     42    NaN   64\n",
       "restricted_stock            146     98    NaN   36\n",
       "shared_receipt_with_poi     146     84    NaN   60\n",
       "restricted_stock_deferred   146     19    NaN  128\n",
       "total_stock_value           146    125    NaN   20\n",
       "expenses                    146     95    NaN   51\n",
       "loan_advances               146      5    NaN  142\n",
       "from_messages               146     65    NaN   60\n",
       "other                       146     93    NaN   53\n",
       "from_this_person_to_poi     146     42    NaN   60\n",
       "poi                         146      2  False  128\n",
       "director_fees               146     18    NaN  129\n",
       "deferred_income             146     45    NaN   97\n",
       "long_term_incentive         146     53    NaN   80\n",
       "email_address               146    112    NaN   35\n",
       "from_poi_to_this_person     146     58    NaN   60"
      ]
     },
     "execution_count": 6,
     "metadata": {},
     "output_type": "execute_result"
    }
   ],
   "source": [
    "enron_data.describe().transpose()"
   ]
  },
  {
   "cell_type": "markdown",
   "metadata": {},
   "source": [
    "Table below lists the data points with more than 15 features are value-missed. We can notice that __LOCKHART EUGENE E__ is a non POI who lost all other features' value and also __THE TRAVEL AGENCY IN THE PARK__ is not an Employee name which may be an unrelated data."
   ]
  },
  {
   "cell_type": "code",
   "execution_count": 7,
   "metadata": {},
   "outputs": [
    {
     "data": {
      "text/html": [
       "<div>\n",
       "<style scoped>\n",
       "    .dataframe tbody tr th:only-of-type {\n",
       "        vertical-align: middle;\n",
       "    }\n",
       "\n",
       "    .dataframe tbody tr th {\n",
       "        vertical-align: top;\n",
       "    }\n",
       "\n",
       "    .dataframe thead th {\n",
       "        text-align: right;\n",
       "    }\n",
       "</style>\n",
       "<table border=\"1\" class=\"dataframe\">\n",
       "  <thead>\n",
       "    <tr style=\"text-align: right;\">\n",
       "      <th></th>\n",
       "      <th>No_NaN</th>\n",
       "    </tr>\n",
       "  </thead>\n",
       "  <tbody>\n",
       "    <tr>\n",
       "      <th>BLAKE JR. NORMAN P</th>\n",
       "      <td>16</td>\n",
       "    </tr>\n",
       "    <tr>\n",
       "      <th>CHAN RONNIE</th>\n",
       "      <td>16</td>\n",
       "    </tr>\n",
       "    <tr>\n",
       "      <th>CHRISTODOULOU DIOMEDES</th>\n",
       "      <td>16</td>\n",
       "    </tr>\n",
       "    <tr>\n",
       "      <th>CLINE KENNETH W</th>\n",
       "      <td>17</td>\n",
       "    </tr>\n",
       "    <tr>\n",
       "      <th>FUGH JOHN L</th>\n",
       "      <td>16</td>\n",
       "    </tr>\n",
       "    <tr>\n",
       "      <th>GATHMANN WILLIAM D</th>\n",
       "      <td>16</td>\n",
       "    </tr>\n",
       "    <tr>\n",
       "      <th>GILLIS JOHN</th>\n",
       "      <td>17</td>\n",
       "    </tr>\n",
       "    <tr>\n",
       "      <th>GRAMM WENDY L</th>\n",
       "      <td>18</td>\n",
       "    </tr>\n",
       "    <tr>\n",
       "      <th>LOCKHART EUGENE E</th>\n",
       "      <td>20</td>\n",
       "    </tr>\n",
       "    <tr>\n",
       "      <th>LOWRY CHARLES P</th>\n",
       "      <td>16</td>\n",
       "    </tr>\n",
       "    <tr>\n",
       "      <th>MENDELSOHN JOHN</th>\n",
       "      <td>16</td>\n",
       "    </tr>\n",
       "    <tr>\n",
       "      <th>MEYER JEROME J</th>\n",
       "      <td>16</td>\n",
       "    </tr>\n",
       "    <tr>\n",
       "      <th>PEREIRA PAULO V. FERRAZ</th>\n",
       "      <td>16</td>\n",
       "    </tr>\n",
       "    <tr>\n",
       "      <th>SAVAGE FRANK</th>\n",
       "      <td>17</td>\n",
       "    </tr>\n",
       "    <tr>\n",
       "      <th>SCRIMSHAW MATTHEW</th>\n",
       "      <td>17</td>\n",
       "    </tr>\n",
       "    <tr>\n",
       "      <th>THE TRAVEL AGENCY IN THE PARK</th>\n",
       "      <td>18</td>\n",
       "    </tr>\n",
       "    <tr>\n",
       "      <th>URQUHART JOHN A</th>\n",
       "      <td>16</td>\n",
       "    </tr>\n",
       "    <tr>\n",
       "      <th>WAKEHAM JOHN</th>\n",
       "      <td>17</td>\n",
       "    </tr>\n",
       "    <tr>\n",
       "      <th>WHALEY DAVID A</th>\n",
       "      <td>18</td>\n",
       "    </tr>\n",
       "    <tr>\n",
       "      <th>WINOKUR JR. HERBERT S</th>\n",
       "      <td>16</td>\n",
       "    </tr>\n",
       "    <tr>\n",
       "      <th>WODRASKA JOHN</th>\n",
       "      <td>17</td>\n",
       "    </tr>\n",
       "    <tr>\n",
       "      <th>WROBEL BRUCE</th>\n",
       "      <td>18</td>\n",
       "    </tr>\n",
       "    <tr>\n",
       "      <th>YEAP SOON</th>\n",
       "      <td>16</td>\n",
       "    </tr>\n",
       "  </tbody>\n",
       "</table>\n",
       "</div>"
      ],
      "text/plain": [
       "                               No_NaN\n",
       "BLAKE JR. NORMAN P                 16\n",
       "CHAN RONNIE                        16\n",
       "CHRISTODOULOU DIOMEDES             16\n",
       "CLINE KENNETH W                    17\n",
       "FUGH JOHN L                        16\n",
       "GATHMANN WILLIAM D                 16\n",
       "GILLIS JOHN                        17\n",
       "GRAMM WENDY L                      18\n",
       "LOCKHART EUGENE E                  20\n",
       "LOWRY CHARLES P                    16\n",
       "MENDELSOHN JOHN                    16\n",
       "MEYER JEROME J                     16\n",
       "PEREIRA PAULO V. FERRAZ            16\n",
       "SAVAGE FRANK                       17\n",
       "SCRIMSHAW MATTHEW                  17\n",
       "THE TRAVEL AGENCY IN THE PARK      18\n",
       "URQUHART JOHN A                    16\n",
       "WAKEHAM JOHN                       17\n",
       "WHALEY DAVID A                     18\n",
       "WINOKUR JR. HERBERT S              16\n",
       "WODRASKA JOHN                      17\n",
       "WROBEL BRUCE                       18\n",
       "YEAP SOON                          16"
      ]
     },
     "execution_count": 7,
     "metadata": {},
     "output_type": "execute_result"
    }
   ],
   "source": [
    "enron_data = enron_data.replace('NaN', np.nan)\n",
    "NaN = pd.DataFrame(enron_data.shape[1] - enron_data.count(axis=1), columns=['No_NaN'])\n",
    "NaN.query('No_NaN>15')"
   ]
  },
  {
   "cell_type": "markdown",
   "metadata": {},
   "source": [
    "### POI"
   ]
  },
  {
   "cell_type": "code",
   "execution_count": 8,
   "metadata": {},
   "outputs": [
    {
     "name": "stdout",
     "output_type": "stream",
     "text": [
      "Total number of POIs in the dataset :  18\n",
      "Total number of non POIs in the dataset :  128\n",
      "POIs and non POIs ratio : 0.12 and 0.88\n"
     ]
    }
   ],
   "source": [
    "num_POI = enron_data['poi'].value_counts()[True]\n",
    "num_nonPOI = enron_data['poi'].value_counts()[False]\n",
    "\n",
    "print \"Total number of POIs in the dataset : \", num_POI\n",
    "print \"Total number of non POIs in the dataset : \", num_nonPOI\n",
    "\n",
    "print('POIs and non POIs ratio : %.2f and %.2f'  % (float(num_POI)/len(enron_data.index), \n",
    "                                                    float(num_nonPOI)/len(enron_data.index)))"
   ]
  },
  {
   "cell_type": "markdown",
   "metadata": {},
   "source": [
    "### Outliers"
   ]
  },
  {
   "cell_type": "markdown",
   "metadata": {},
   "source": [
    "As analysed above, there are two data points can be seen as outliers.\n",
    "1. LOCKHART EUGENE E -- no feature values\n",
    "2. THE TRAVEL AGENCY IN THE PARK -- not an employee name\n",
    "\n",
    "There are also one big outlier we already found during mini project of using a regression to predict the bonuses for Enron employees as shown in the scatter plot below. The data point named __\"TOTAL\"__ should be removed, which clearly demonstrated that visualization is one of the most powerful tools for finding outliers! "
   ]
  },
  {
   "cell_type": "code",
   "execution_count": 9,
   "metadata": {
    "scrolled": false
   },
   "outputs": [
    {
     "data": {
      "image/png": "[encoded data removed]",
      "text/plain": [
       "<matplotlib.figure.Figure at 0x10dd01cd0>"
      ]
     },
     "metadata": {},
     "output_type": "display_data"
    }
   ],
   "source": [
    "enron_data = enron_data.drop(\"LOCKHART EUGENE E\")\n",
    "enron_data = enron_data.drop(\"THE TRAVEL AGENCY IN THE PARK\")\n",
    "\n",
    "_ = plt.scatter(enron_data.salary, enron_data.bonus )\n",
    "_ = plt.xlabel(\"salary\")\n",
    "_ = plt.ylabel(\"bonus\")\n",
    "plt.show()"
   ]
  },
  {
   "cell_type": "markdown",
   "metadata": {},
   "source": [
    "After removing the biggest outlier, as shown below there are still few more, but we found they are \"LAY KENNETH L\" and \"SKILLING JEFFREY K\", two of Enron's biggest bosses, and definitely people of interest. So we should keep these two."
   ]
  },
  {
   "cell_type": "code",
   "execution_count": 10,
   "metadata": {},
   "outputs": [
    {
     "data": {
      "image/png": "[encoded data removed]",
      "text/plain": [
       "<matplotlib.figure.Figure at 0x10dce6090>"
      ]
     },
     "metadata": {},
     "output_type": "display_data"
    }
   ],
   "source": [
    "enron_data = enron_data.drop(\"TOTAL\")\n",
    "\n",
    "_ = plt.scatter(enron_data.salary, enron_data.bonus )\n",
    "_ = plt.xlabel(\"salary\")\n",
    "_ = plt.ylabel(\"bonus\")\n",
    "plt.show()"
   ]
  },
  {
   "cell_type": "markdown",
   "metadata": {},
   "source": [
    "## Optimize Feature Selection/Engineering"
   ]
  },
  {
   "cell_type": "markdown",
   "metadata": {},
   "source": [
    "### Create New Features"
   ]
  },
  {
   "cell_type": "markdown",
   "metadata": {},
   "source": [
    "I have created two new features as discussed in mini-project using our ituition, that the fraction of receiving emails from POIs and sendinng emails to POIs would be essential to differentiate POI and non-POI.\n",
    "1. __fraction_from_poi_to_this_person__\n",
    "\n",
    "from_poi_to_this_person / to_messages\n",
    "\n",
    "2. __fraction_from_this_person_to_poi__\n",
    "\n",
    "from_this_person_to_poi / from_messages"
   ]
  },
  {
   "cell_type": "code",
   "execution_count": 11,
   "metadata": {},
   "outputs": [],
   "source": [
    "#replace NaN to 0\n",
    "enron_data = enron_data.fillna(0)\n",
    "\n",
    "#1 new feature 'ratio_from_poi_to_this_person'\n",
    "enron_data['fraction_from_poi_to_this_person'] = enron_data[\"from_poi_to_this_person\"].\\\n",
    "divide(enron_data[\"to_messages\"], fill_value = 0).fillna(0)\n",
    "\n",
    "#2 new feature \n",
    "enron_data['fraction_from_this_person_to_poi'] = enron_data[\"from_this_person_to_poi\"].\\\n",
    "divide(enron_data[\"from_messages\"], fill_value = 0).fillna(0)\n",
    "\n",
    "#3 remove feature 'email_address'\n",
    "enron_data = enron_data.drop(columns=['email_address'])"
   ]
  },
  {
   "cell_type": "markdown",
   "metadata": {},
   "source": [
    "### Feature Seletion"
   ]
  },
  {
   "cell_type": "markdown",
   "metadata": {},
   "source": [
    "The feature_list includes the two new features and 'email_address' is removed which is not helpful for identifying POI.\n",
    "\n",
    "feature_list = ['salary', 'deferral_payments', 'total_payments', 'loan_advances', 'bonus', 'restricted_stock_deferred', 'deferred_income', 'total_stock_value', 'expenses', 'exercised_stock_options', 'other', 'long_term_incentive', 'restricted_stock', 'director_fees', 'to_messages', 'email_address', 'from_poi_to_this_person', 'from_messages', 'from_this_person_to_poi', 'shared_receipt_with_poi', 'ratio_from_poi_to_this_person','ratio_from_this_person_to_poi']  "
   ]
  },
  {
   "cell_type": "code",
   "execution_count": 12,
   "metadata": {
    "collapsed": true
   },
   "outputs": [],
   "source": [
    "data_dict = enron_data.to_dict('index')\n",
    "feature_list = ['poi', 'salary', 'deferral_payments', 'total_payments', 'loan_advances', 'bonus', \n",
    "                'restricted_stock_deferred', 'deferred_income', 'total_stock_value', 'expenses', \n",
    "                'exercised_stock_options', 'other', 'long_term_incentive', 'restricted_stock', \n",
    "                'director_fees', 'to_messages', 'from_poi_to_this_person', \n",
    "                'from_messages', 'from_this_person_to_poi', 'shared_receipt_with_poi', \n",
    "                'fraction_from_poi_to_this_person','fraction_from_this_person_to_poi']"
   ]
  },
  {
   "cell_type": "code",
   "execution_count": 13,
   "metadata": {},
   "outputs": [
    {
     "name": "stdout",
     "output_type": "stream",
     "text": [
      "Number of features :  21\n"
     ]
    }
   ],
   "source": [
    "print \"Number of features : \", (len(feature_list)-1)"
   ]
  },
  {
   "cell_type": "markdown",
   "metadata": {},
   "source": [
    "In this project, I performed __SelectKBest__ to select K features according to the k highest scores. In default `k = 10`, in the below table we can see the ranking scores of all features and noticed that top 10 has scores larger than 2. As for how to select __k__, which can be seen as a parameter for tuning. In this project I just use this 10 best features and leave it as a future work."
   ]
  },
  {
   "cell_type": "code",
   "execution_count": 14,
   "metadata": {},
   "outputs": [
    {
     "data": {
      "text/html": [
       "<div>\n",
       "<style scoped>\n",
       "    .dataframe tbody tr th:only-of-type {\n",
       "        vertical-align: middle;\n",
       "    }\n",
       "\n",
       "    .dataframe tbody tr th {\n",
       "        vertical-align: top;\n",
       "    }\n",
       "\n",
       "    .dataframe thead th {\n",
       "        text-align: right;\n",
       "    }\n",
       "</style>\n",
       "<table border=\"1\" class=\"dataframe\">\n",
       "  <thead>\n",
       "    <tr style=\"text-align: right;\">\n",
       "      <th></th>\n",
       "      <th>feature</th>\n",
       "      <th>score</th>\n",
       "    </tr>\n",
       "  </thead>\n",
       "  <tbody>\n",
       "    <tr>\n",
       "      <th>9</th>\n",
       "      <td>exercised_stock_options</td>\n",
       "      <td>5.740357</td>\n",
       "    </tr>\n",
       "    <tr>\n",
       "      <th>7</th>\n",
       "      <td>total_stock_value</td>\n",
       "      <td>5.619009</td>\n",
       "    </tr>\n",
       "    <tr>\n",
       "      <th>4</th>\n",
       "      <td>bonus</td>\n",
       "      <td>4.958095</td>\n",
       "    </tr>\n",
       "    <tr>\n",
       "      <th>0</th>\n",
       "      <td>salary</td>\n",
       "      <td>4.458636</td>\n",
       "    </tr>\n",
       "    <tr>\n",
       "      <th>20</th>\n",
       "      <td>fraction_from_this_person_to_poi</td>\n",
       "      <td>4.076292</td>\n",
       "    </tr>\n",
       "    <tr>\n",
       "      <th>6</th>\n",
       "      <td>deferred_income</td>\n",
       "      <td>3.035252</td>\n",
       "    </tr>\n",
       "    <tr>\n",
       "      <th>11</th>\n",
       "      <td>long_term_incentive</td>\n",
       "      <td>2.700235</td>\n",
       "    </tr>\n",
       "    <tr>\n",
       "      <th>12</th>\n",
       "      <td>restricted_stock</td>\n",
       "      <td>2.543209</td>\n",
       "    </tr>\n",
       "    <tr>\n",
       "      <th>2</th>\n",
       "      <td>total_payments</td>\n",
       "      <td>2.444987</td>\n",
       "    </tr>\n",
       "    <tr>\n",
       "      <th>18</th>\n",
       "      <td>shared_receipt_with_poi</td>\n",
       "      <td>2.403865</td>\n",
       "    </tr>\n",
       "    <tr>\n",
       "      <th>3</th>\n",
       "      <td>loan_advances</td>\n",
       "      <td>2.084503</td>\n",
       "    </tr>\n",
       "    <tr>\n",
       "      <th>8</th>\n",
       "      <td>expenses</td>\n",
       "      <td>1.830967</td>\n",
       "    </tr>\n",
       "    <tr>\n",
       "      <th>15</th>\n",
       "      <td>from_poi_to_this_person</td>\n",
       "      <td>1.628676</td>\n",
       "    </tr>\n",
       "    <tr>\n",
       "      <th>10</th>\n",
       "      <td>other</td>\n",
       "      <td>1.370777</td>\n",
       "    </tr>\n",
       "    <tr>\n",
       "      <th>19</th>\n",
       "      <td>fraction_from_poi_to_this_person</td>\n",
       "      <td>1.101735</td>\n",
       "    </tr>\n",
       "    <tr>\n",
       "      <th>17</th>\n",
       "      <td>from_this_person_to_poi</td>\n",
       "      <td>0.903321</td>\n",
       "    </tr>\n",
       "    <tr>\n",
       "      <th>13</th>\n",
       "      <td>director_fees</td>\n",
       "      <td>0.832650</td>\n",
       "    </tr>\n",
       "    <tr>\n",
       "      <th>14</th>\n",
       "      <td>to_messages</td>\n",
       "      <td>0.695590</td>\n",
       "    </tr>\n",
       "    <tr>\n",
       "      <th>1</th>\n",
       "      <td>deferral_payments</td>\n",
       "      <td>0.196351</td>\n",
       "    </tr>\n",
       "    <tr>\n",
       "      <th>16</th>\n",
       "      <td>from_messages</td>\n",
       "      <td>0.166851</td>\n",
       "    </tr>\n",
       "    <tr>\n",
       "      <th>5</th>\n",
       "      <td>restricted_stock_deferred</td>\n",
       "      <td>0.097791</td>\n",
       "    </tr>\n",
       "  </tbody>\n",
       "</table>\n",
       "</div>"
      ],
      "text/plain": [
       "                             feature     score\n",
       "9            exercised_stock_options  5.740357\n",
       "7                  total_stock_value  5.619009\n",
       "4                              bonus  4.958095\n",
       "0                             salary  4.458636\n",
       "20  fraction_from_this_person_to_poi  4.076292\n",
       "6                    deferred_income  3.035252\n",
       "11               long_term_incentive  2.700235\n",
       "12                  restricted_stock  2.543209\n",
       "2                     total_payments  2.444987\n",
       "18           shared_receipt_with_poi  2.403865\n",
       "3                      loan_advances  2.084503\n",
       "8                           expenses  1.830967\n",
       "15           from_poi_to_this_person  1.628676\n",
       "10                             other  1.370777\n",
       "19  fraction_from_poi_to_this_person  1.101735\n",
       "17           from_this_person_to_poi  0.903321\n",
       "13                     director_fees  0.832650\n",
       "14                       to_messages  0.695590\n",
       "1                  deferral_payments  0.196351\n",
       "16                     from_messages  0.166851\n",
       "5          restricted_stock_deferred  0.097791"
      ]
     },
     "execution_count": 14,
     "metadata": {},
     "output_type": "execute_result"
    }
   ],
   "source": [
    "data = featureFormat(data_dict, feature_list)\n",
    "labels, features = targetFeatureSplit(data)\n",
    "\n",
    "selector = SelectKBest(f_classif)\n",
    "_ = selector.fit(features, labels)\n",
    "# Get the raw p-values for each feature, and transform from p-values into scores\n",
    "scores = -np.log10(selector.pvalues_)\n",
    "feature_score = pd.DataFrame({'feature':feature_list[1:], 'score':scores})\n",
    "feature_score.sort_values(by=['score'], ascending=False)"
   ]
  },
  {
   "cell_type": "markdown",
   "metadata": {},
   "source": [
    "From this table, we can notice few things.\n",
    "1. The first two features are all related with stock, and __exercised_stock_options__ is part of __\ttotal_stock_value__, after learning more about stock options, I would agree that __exercised_stock_options__ is an important indication for POI.\n",
    ">Exercising a stock option means purchasing the shares of stock per the stock option agreement. The benefit of the option to the option holder comes when the grant price is lower than the market value of the stock at the time the option is exercised. \n",
    "\n",
    "2. As we explored in Regression Mini-project, bonus is positively related with salary with few outliers which are POIs, I would keep these two features for further analysis.\n",
    "\n",
    "3. The new feature __ratio_from_this_person_to_poi__ plays an important role."
   ]
  },
  {
   "cell_type": "code",
   "execution_count": 15,
   "metadata": {},
   "outputs": [
    {
     "name": "stdout",
     "output_type": "stream",
     "text": [
      "Remaining features: \n",
      "['salary', 'total_payments', 'loan_advances', 'bonus', 'deferred_income', 'total_stock_value', 'exercised_stock_options', 'long_term_incentive', 'restricted_stock', 'shared_receipt_with_poi', 'fraction_from_this_person_to_poi']\n"
     ]
    }
   ],
   "source": [
    "featureK = feature_score.loc[feature_score['score'] > 2, 'feature'].tolist()\n",
    "print \"Remaining features: \\n\", featureK"
   ]
  },
  {
   "cell_type": "markdown",
   "metadata": {},
   "source": [
    "Apart from using SelectKBest to reduce the dimension of features,  for algorithm that supports getting the feature importances like decision tree, we can sort their feature importances to select features. Let's take decision tree as an example, of which `test_size` is set to 0.4 for validation and `random_state` to 42."
   ]
  },
  {
   "cell_type": "code",
   "execution_count": 16,
   "metadata": {},
   "outputs": [
    {
     "name": "stdout",
     "output_type": "stream",
     "text": [
      "Accuracy :  0.862068965517\n",
      "\n",
      "\n",
      "feature :  salary\n",
      "importance :  0.19195047965\n",
      "\n",
      "\n",
      "feature :  exercised_stock_options\n",
      "importance :  0.469097977567\n",
      "\n",
      "\n",
      "feature :  fraction_from_poi_to_this_person\n",
      "importance :  0.273381258934\n",
      "\n",
      "\n"
     ]
    }
   ],
   "source": [
    "from sklearn.tree import DecisionTreeClassifier\n",
    "## split dataset for training and testing\n",
    "features_train, features_test, labels_train, labels_test = cross_validation.train_test_split\\\n",
    "                (features, labels, test_size=0.4, random_state=42)\n",
    "\n",
    "clf = DecisionTreeClassifier(min_samples_split = 40)\n",
    "_ = clf.fit(features_train,labels_train)\n",
    "print \"Accuracy : \", clf.score(features_test, labels_test)\n",
    "print \"\\n\"\n",
    "\n",
    "for num, value in enumerate(clf.feature_importances_):\n",
    "    if value > 0.1:\n",
    "        print \"feature : \", feature_list[num+1]\n",
    "        print \"importance : \", value\n",
    "        print \"\\n\""
   ]
  },
  {
   "cell_type": "markdown",
   "metadata": {},
   "source": [
    "Only three features remained : ['salary', 'exercised_stock_options', 'fraction_from_this_person_to_poi']"
   ]
  },
  {
   "cell_type": "markdown",
   "metadata": {},
   "source": [
    "### Feature Scaling"
   ]
  },
  {
   "cell_type": "markdown",
   "metadata": {},
   "source": [
    "To identify POI is a classification(discrete) problem, we can choose different algorithms to work with. However, several algorithms may be affected by feature scaling, such as _SVM_ and _linear regression_, so for specific algorithm, we can apply _MinMaxScaler_ to scale the features."
   ]
  },
  {
   "cell_type": "markdown",
   "metadata": {},
   "source": [
    "## Pick and Tune an Algorithm"
   ]
  },
  {
   "cell_type": "markdown",
   "metadata": {},
   "source": [
    "### Algorithm Tunning"
   ]
  },
  {
   "cell_type": "markdown",
   "metadata": {},
   "source": [
    "Bias-variance tradeoff is one of the key dilema in machine learning. High bias algorithms has no capacity to learn, high variance algorithms react poorly in case they didn't see such data before. Predictive model should be tuned to achieve compromise. The process of changing the parameteres of algorithms is algorithm tuning and it lets us find the golden mean and best result. If I don't tune the algorithm well, I don't get the best result I could.\n",
    "\n",
    "Algorithm might be tuned manually by iteratively changing the parameteres and tracking the results. Or GridSearchCV might be used which makes this automatically.\n",
    "\n",
    "Three different algorithms for classification are performed and the parameters are tuned using GridSearchCV, including Naive Bayes, SVM, and Decision Tree, of which only SVM requires feature scaling. For each algorithm, the parameters need to be tuned are listed below.\n",
    "\n",
    "- GaussianNB: NaN\n",
    "- SVC: `C`, `gamma`\n",
    "- DecisionTreeClassifier: `min_samples_split`, `min_samples_leaf`"
   ]
  },
  {
   "cell_type": "code",
   "execution_count": 17,
   "metadata": {
    "collapsed": true
   },
   "outputs": [],
   "source": [
    "from sklearn.naive_bayes import GaussianNB\n",
    "from sklearn.svm import SVC\n",
    "from sklearn.model_selection import GridSearchCV\n",
    "from sklearn.decomposition import PCA\n",
    "from sklearn.model_selection import KFold\n",
    "from sklearn.metrics import precision_score, recall_score, f1_score\n",
    "from sklearn.preprocessing import MinMaxScaler"
   ]
  },
  {
   "cell_type": "markdown",
   "metadata": {},
   "source": [
    "Below are the tunning and accuracy results, __10-folds__ cross validation is applied for validation since I found that randomly splitting dataset has a great influence on the results. , labels=np.unique(y_pred)"
   ]
  },
  {
   "cell_type": "code",
   "execution_count": 18,
   "metadata": {},
   "outputs": [],
   "source": [
    "def kfold_cv(cv_clf, X, y, n_splits=10, apply_PCA=False, apply_scale = False):\n",
    "    cv = KFold(n_splits=n_splits)\n",
    "    accuracy = []\n",
    "    precision = []\n",
    "    recall = []\n",
    "    F1 = []\n",
    "    for train_index, test_index in cv.split(X):\n",
    "        X_train, X_test = np.array(X)[train_index], np.array(X)[test_index]\n",
    "        y_train, y_test = np.array(y)[train_index], np.array(y)[test_index]        \n",
    "        if apply_scale:\n",
    "            scaler = MinMaxScaler()\n",
    "            _ = scaler.fit(X_train)\n",
    "            X_train = scaler.transform(X_train)\n",
    "            X_test = scaler.transform(X_test)\n",
    "        if apply_PCA:\n",
    "            pca = PCA(n_components=3)\n",
    "            _ = pca.fit(X_train)\n",
    "            #transform\n",
    "            X_train = pca.transform(X_train)\n",
    "            X_test = pca.transform(X_test)\n",
    "\n",
    "        cv_clf.fit(X_train, y_train)\n",
    "        y_pred = cv_clf.predict(X_test)\n",
    "        \n",
    "        accuracy.append(cv_clf.score(X_test, y_test))\n",
    "        precision.append(precision_score(y_test, y_pred, average='macro', labels=np.unique(y_pred)))\n",
    "        recall.append(recall_score(y_test, y_pred, average='macro', labels=np.unique(y_pred)))\n",
    "        F1.append(f1_score(y_test, y_pred, average='macro', labels=np.unique(y_pred)))\n",
    "#     print \"accuracy : \", accuracy\n",
    "#     print \"precision:\", precision\n",
    "#     print \"recall : \", recall\n",
    "#     print \"F1:\", F1\n",
    "                    \n",
    "    evaluation = pd.DataFrame({\"accuracy\" : [sum(accuracy)/float(len(accuracy))],\n",
    "                               \"precision\" :[sum(precision)/float(len(precision))],\n",
    "                               \"recall\" : [sum(recall)/float(len(recall))],\n",
    "                               \"F1 score\" : [sum(F1)/float(len(F1))]})\n",
    "    \n",
    "    return evaluation"
   ]
  },
  {
   "cell_type": "markdown",
   "metadata": {},
   "source": [
    "#### (1) GaussianNB"
   ]
  },
  {
   "cell_type": "markdown",
   "metadata": {},
   "source": [
    "For GaussianNB, I performed the following steps.\n",
    "- Using __SelectKBest__ to select 11 features with scores greater than 2.\n",
    "- Split dataset into train/test\n",
    "- Applying __PCA__ to train set reducing the dimensionality to 3 and applied the same transform to both train and test set.\n",
    "- K-fold cross evaluation"
   ]
  },
  {
   "cell_type": "code",
   "execution_count": 19,
   "metadata": {},
   "outputs": [
    {
     "name": "stderr",
     "output_type": "stream",
     "text": [
      "/anaconda/envs/DataA/lib/python2.7/site-packages/sklearn/metrics/classification.py:1137: UndefinedMetricWarning: Recall is ill-defined and being set to 0.0 in labels with no true samples.\n",
      "  'recall', 'true', average, warn_for)\n",
      "/anaconda/envs/DataA/lib/python2.7/site-packages/sklearn/metrics/classification.py:1137: UndefinedMetricWarning: F-score is ill-defined and being set to 0.0 in labels with no true samples.\n",
      "  'recall', 'true', average, warn_for)\n"
     ]
    }
   ],
   "source": [
    "#feature list after SelectKBest\n",
    "feature_listK =  ['poi'] + featureK\n",
    "\n",
    "#split into train and test using kfold\n",
    "data_K = featureFormat(data_dict, feature_listK)\n",
    "labels_K, features_K = targetFeatureSplit(data_K)\n",
    "\n",
    "# classifier\n",
    "clf_GNB = GaussianNB()\n",
    "\n",
    "evaluation_GNB = kfold_cv(clf_GNB, features_K, labels_K, apply_PCA=True)"
   ]
  },
  {
   "cell_type": "code",
   "execution_count": 20,
   "metadata": {},
   "outputs": [
    {
     "data": {
      "text/html": [
       "<div>\n",
       "<style scoped>\n",
       "    .dataframe tbody tr th:only-of-type {\n",
       "        vertical-align: middle;\n",
       "    }\n",
       "\n",
       "    .dataframe tbody tr th {\n",
       "        vertical-align: top;\n",
       "    }\n",
       "\n",
       "    .dataframe thead th {\n",
       "        text-align: right;\n",
       "    }\n",
       "</style>\n",
       "<table border=\"1\" class=\"dataframe\">\n",
       "  <thead>\n",
       "    <tr style=\"text-align: right;\">\n",
       "      <th></th>\n",
       "      <th>F1 score</th>\n",
       "      <th>accuracy</th>\n",
       "      <th>precision</th>\n",
       "      <th>recall</th>\n",
       "    </tr>\n",
       "  </thead>\n",
       "  <tbody>\n",
       "    <tr>\n",
       "      <th>0</th>\n",
       "      <td>0.790441</td>\n",
       "      <td>0.866667</td>\n",
       "      <td>0.785082</td>\n",
       "      <td>0.834524</td>\n",
       "    </tr>\n",
       "  </tbody>\n",
       "</table>\n",
       "</div>"
      ],
      "text/plain": [
       "   F1 score  accuracy  precision    recall\n",
       "0  0.790441  0.866667   0.785082  0.834524"
      ]
     },
     "execution_count": 20,
     "metadata": {},
     "output_type": "execute_result"
    }
   ],
   "source": [
    "evaluation_GNB"
   ]
  },
  {
   "cell_type": "markdown",
   "metadata": {},
   "source": [
    "#### (2) SVC"
   ]
  },
  {
   "cell_type": "markdown",
   "metadata": {},
   "source": [
    "For SVC, I performed the following steps.\n",
    "- Using __SelectKBest__ to select 11 features with scores greater than 2.\n",
    "- Split dataset into train/test\n",
    "- Perform __MinMaxScaler__ to scale the features\n",
    "- Applying __PCA__ to train set reducing the dimensionality to 3 and applied the same transform to both train and test set.\n",
    "\n",
    "(above are exactly same as GaussianNB)\n",
    "- Using __GridSearchCV__ to get the optimal parameters.\n",
    "- K-fold cross evaluation\n",
    "\n",
    "Below are the optimal parameters value achieved after performing the parameters tuning."
   ]
  },
  {
   "cell_type": "code",
   "execution_count": 21,
   "metadata": {
    "collapsed": true
   },
   "outputs": [],
   "source": [
    "#split the dataset into train/test\n",
    "features_train, features_test, labels_train, labels_test = cross_validation.train_test_split\\\n",
    "                (features_K, labels_K, test_size=0.4, random_state=42)\n",
    "#feature scaling\n",
    "scaler = MinMaxScaler()\n",
    "_ = scaler.fit(features_train)\n",
    "features_train_scale = scaler.transform(features_train)\n",
    "features_test_scale = scaler.transform(features_test)\n",
    "\n",
    "#pca fit on train set\n",
    "pca = PCA(n_components=3)\n",
    "_ = pca.fit(features_train_scale)\n",
    "#transform\n",
    "features_train_pca = pca.transform(features_train_scale)\n",
    "features_test_pca = pca.transform(features_test_scale)"
   ]
  },
  {
   "cell_type": "code",
   "execution_count": 22,
   "metadata": {},
   "outputs": [
    {
     "name": "stdout",
     "output_type": "stream",
     "text": [
      "Best estimator found by grid search:\n",
      "SVC(C=500.0, cache_size=200, class_weight='balanced', coef0=0.0,\n",
      "  decision_function_shape='ovr', degree=3, gamma=0.0001, kernel='rbf',\n",
      "  max_iter=-1, probability=False, random_state=None, shrinking=True,\n",
      "  tol=0.001, verbose=False)\n"
     ]
    }
   ],
   "source": [
    "param_grid = {\n",
    "       'C': [1, 10, 1e2, 5e2, 1e3, 5e3, 1e4],\n",
    "        'gamma': [0.0001, 0.001, 0.01, 0.1, 0.3],\n",
    "        }\n",
    "\n",
    "clf_SVC = GridSearchCV(SVC(kernel='rbf', class_weight='balanced'), param_grid)\n",
    "\n",
    "_ = clf_SVC.fit(features_train_pca, labels_train)\n",
    "\n",
    "print \"Best estimator found by grid search:\"\n",
    "print clf_SVC.best_estimator_"
   ]
  },
  {
   "cell_type": "code",
   "execution_count": 23,
   "metadata": {},
   "outputs": [],
   "source": [
    "evaluation_SVC = kfold_cv(clf_SVC.best_estimator_, features_K, labels_K, apply_PCA=True, apply_scale=True)"
   ]
  },
  {
   "cell_type": "code",
   "execution_count": 24,
   "metadata": {},
   "outputs": [
    {
     "data": {
      "text/html": [
       "<div>\n",
       "<style scoped>\n",
       "    .dataframe tbody tr th:only-of-type {\n",
       "        vertical-align: middle;\n",
       "    }\n",
       "\n",
       "    .dataframe tbody tr th {\n",
       "        vertical-align: top;\n",
       "    }\n",
       "\n",
       "    .dataframe thead th {\n",
       "        text-align: right;\n",
       "    }\n",
       "</style>\n",
       "<table border=\"1\" class=\"dataframe\">\n",
       "  <thead>\n",
       "    <tr style=\"text-align: right;\">\n",
       "      <th></th>\n",
       "      <th>F1 score</th>\n",
       "      <th>accuracy</th>\n",
       "      <th>precision</th>\n",
       "      <th>recall</th>\n",
       "    </tr>\n",
       "  </thead>\n",
       "  <tbody>\n",
       "    <tr>\n",
       "      <th>0</th>\n",
       "      <td>0.674476</td>\n",
       "      <td>0.853333</td>\n",
       "      <td>0.709267</td>\n",
       "      <td>0.693715</td>\n",
       "    </tr>\n",
       "  </tbody>\n",
       "</table>\n",
       "</div>"
      ],
      "text/plain": [
       "   F1 score  accuracy  precision    recall\n",
       "0  0.674476  0.853333   0.709267  0.693715"
      ]
     },
     "execution_count": 24,
     "metadata": {},
     "output_type": "execute_result"
    }
   ],
   "source": [
    "evaluation_SVC"
   ]
  },
  {
   "cell_type": "markdown",
   "metadata": {},
   "source": [
    "#### (3) DecisionTreeClassifier"
   ]
  },
  {
   "cell_type": "markdown",
   "metadata": {},
   "source": [
    "For DecisionTreeClassifier, I performed the following steps.\n",
    "- Split dataset into train/test with all features\n",
    "- Comparing the feature_importance to select features\n",
    "\n",
    "Which has been done in _Feature Selection_ part\n",
    "\n",
    "- Using __GridSearchCV__ to get the optimal parameters.\n",
    "- K-fold cross evaluation\n",
    "\n",
    "Below are the optimal parameters value achieved after performing the parameters tuning."
   ]
  },
  {
   "cell_type": "code",
   "execution_count": 25,
   "metadata": {},
   "outputs": [
    {
     "name": "stdout",
     "output_type": "stream",
     "text": [
      "Best estimator found by grid search:\n",
      "DecisionTreeClassifier(class_weight=None, criterion='gini', max_depth=None,\n",
      "            max_features=None, max_leaf_nodes=None,\n",
      "            min_impurity_decrease=0.0, min_impurity_split=None,\n",
      "            min_samples_leaf=6, min_samples_split=8,\n",
      "            min_weight_fraction_leaf=0.0, presort=False, random_state=None,\n",
      "            splitter='best')\n"
     ]
    }
   ],
   "source": [
    "feature_importance = ['poi', 'salary', 'exercised_stock_options', 'fraction_from_this_person_to_poi']\n",
    "# get features and labels\n",
    "data = featureFormat(data_dict, feature_importance)\n",
    "labels, features = targetFeatureSplit(data)\n",
    "\n",
    "#split into train and test\n",
    "features_train, features_test, labels_train, labels_test = cross_validation.train_test_split\\\n",
    "                (features, labels, test_size=0.4, random_state=42)\n",
    "\n",
    "param_grid= {'min_samples_split': [2, 4, 8, 16, 32, 64],\n",
    "             'min_samples_leaf': [1, 2, 3, 4, 5, 6, 7, 8]\n",
    "            }\n",
    "\n",
    "clf_DT = GridSearchCV(DecisionTreeClassifier(), param_grid)\n",
    "\n",
    "_ = clf_DT.fit(features_train, labels_train)\n",
    "\n",
    "print \"Best estimator found by grid search:\"\n",
    "print clf_DT.best_estimator_"
   ]
  },
  {
   "cell_type": "code",
   "execution_count": 26,
   "metadata": {},
   "outputs": [],
   "source": [
    "evaluation_DT = kfold_cv(clf_DT.best_estimator_, features, labels)"
   ]
  },
  {
   "cell_type": "code",
   "execution_count": 27,
   "metadata": {},
   "outputs": [
    {
     "data": {
      "text/html": [
       "<div>\n",
       "<style scoped>\n",
       "    .dataframe tbody tr th:only-of-type {\n",
       "        vertical-align: middle;\n",
       "    }\n",
       "\n",
       "    .dataframe tbody tr th {\n",
       "        vertical-align: top;\n",
       "    }\n",
       "\n",
       "    .dataframe thead th {\n",
       "        text-align: right;\n",
       "    }\n",
       "</style>\n",
       "<table border=\"1\" class=\"dataframe\">\n",
       "  <thead>\n",
       "    <tr style=\"text-align: right;\">\n",
       "      <th></th>\n",
       "      <th>F1 score</th>\n",
       "      <th>accuracy</th>\n",
       "      <th>precision</th>\n",
       "      <th>recall</th>\n",
       "    </tr>\n",
       "  </thead>\n",
       "  <tbody>\n",
       "    <tr>\n",
       "      <th>0</th>\n",
       "      <td>0.605587</td>\n",
       "      <td>0.801923</td>\n",
       "      <td>0.613918</td>\n",
       "      <td>0.636886</td>\n",
       "    </tr>\n",
       "  </tbody>\n",
       "</table>\n",
       "</div>"
      ],
      "text/plain": [
       "   F1 score  accuracy  precision    recall\n",
       "0  0.605587  0.801923   0.613918  0.636886"
      ]
     },
     "execution_count": 27,
     "metadata": {},
     "output_type": "execute_result"
    }
   ],
   "source": [
    "evaluation_DT"
   ]
  },
  {
   "cell_type": "markdown",
   "metadata": {},
   "source": [
    "### Validation and Evaluation"
   ]
  },
  {
   "cell_type": "markdown",
   "metadata": {},
   "source": [
    "#### Validation\n",
    "\n",
    "In machine learning, model validation is referred to as the process where a trained model is evaluated with a testing data set. The testing data set is a separate portion of the same data set from which the training set is derived. The main purpose of using the testing data set is to test the generalization ability of a trained mode. \n",
    "\n",
    "There are a number of strategies to validate the model. One of them is to split the available data into train and test data another one is k-fold cross validation, which splits dataset into k consecutive folds, each fold is then used once as a validation while the (k - 1) remaining folds form the training set.\n",
    "\n",
    "In this project, I performed 10-folds cross validation, which means for 146 samples in total, the first 6 folds have size 15,  other 4 folds have size 14. Each folds will be used as testing set once while others are training set.\n",
    "\n"
   ]
  },
  {
   "cell_type": "markdown",
   "metadata": {},
   "source": [
    "#### Evaluation"
   ]
  },
  {
   "cell_type": "markdown",
   "metadata": {},
   "source": [
    "Apart from accuracy, there are three more matrices, including Precision, Recall and F1-score are used for evaluation. \n",
    "\n",
    "__Accuracy__: Mean accuracy on the given test data and labels, whether the prediction of POI or non-POI is right or not.\n",
    "\n",
    "__Recall__: True Positive / (True Positive + False Negative). Out of all the items that are truly positive, how many were correctly classified as positive. Or simply, how many positive items were 'recalled' from the dataset.\n",
    "\n",
    "__Precision__: True Positive / (True Positive + False Positive). Out of all the items labeled as positive, how many truly belong to the positive class.\n",
    "\n",
    "__F1-score__ : It is a harmonic mean of recall and precision. It is calculated as (2xrecallxprecision)/(recall + precision). It reached its best value at 1 and worse value at 0.\n",
    "\n",
    "'The performance of the selected three algorithms are shown below"
   ]
  },
  {
   "cell_type": "code",
   "execution_count": 28,
   "metadata": {},
   "outputs": [],
   "source": [
    "results = pd.concat([evaluation_GNB, evaluation_SVC, evaluation_DT], keys = ['GaussianNB', 'SVC', 'DT'])"
   ]
  },
  {
   "cell_type": "code",
   "execution_count": 29,
   "metadata": {
    "scrolled": true
   },
   "outputs": [
    {
     "data": {
      "text/html": [
       "<div>\n",
       "<style scoped>\n",
       "    .dataframe tbody tr th:only-of-type {\n",
       "        vertical-align: middle;\n",
       "    }\n",
       "\n",
       "    .dataframe tbody tr th {\n",
       "        vertical-align: top;\n",
       "    }\n",
       "\n",
       "    .dataframe thead th {\n",
       "        text-align: right;\n",
       "    }\n",
       "</style>\n",
       "<table border=\"1\" class=\"dataframe\">\n",
       "  <thead>\n",
       "    <tr style=\"text-align: right;\">\n",
       "      <th></th>\n",
       "      <th></th>\n",
       "      <th>F1 score</th>\n",
       "      <th>accuracy</th>\n",
       "      <th>precision</th>\n",
       "      <th>recall</th>\n",
       "    </tr>\n",
       "  </thead>\n",
       "  <tbody>\n",
       "    <tr>\n",
       "      <th>GaussianNB</th>\n",
       "      <th>0</th>\n",
       "      <td>0.790441</td>\n",
       "      <td>0.866667</td>\n",
       "      <td>0.785082</td>\n",
       "      <td>0.834524</td>\n",
       "    </tr>\n",
       "    <tr>\n",
       "      <th>SVC</th>\n",
       "      <th>0</th>\n",
       "      <td>0.674476</td>\n",
       "      <td>0.853333</td>\n",
       "      <td>0.709267</td>\n",
       "      <td>0.693715</td>\n",
       "    </tr>\n",
       "    <tr>\n",
       "      <th>DT</th>\n",
       "      <th>0</th>\n",
       "      <td>0.605587</td>\n",
       "      <td>0.801923</td>\n",
       "      <td>0.613918</td>\n",
       "      <td>0.636886</td>\n",
       "    </tr>\n",
       "  </tbody>\n",
       "</table>\n",
       "</div>"
      ],
      "text/plain": [
       "              F1 score  accuracy  precision    recall\n",
       "GaussianNB 0  0.790441  0.866667   0.785082  0.834524\n",
       "SVC        0  0.674476  0.853333   0.709267  0.693715\n",
       "DT         0  0.605587  0.801923   0.613918  0.636886"
      ]
     },
     "execution_count": 29,
     "metadata": {},
     "output_type": "execute_result"
    }
   ],
   "source": [
    "results"
   ]
  },
  {
   "cell_type": "markdown",
   "metadata": {},
   "source": [
    "Comparing the metrics, GaussinNB performs best with  the highest scores for all metrics."
   ]
  },
  {
   "cell_type": "markdown",
   "metadata": {
    "collapsed": true
   },
   "source": [
    "## Reference"
   ]
  },
  {
   "cell_type": "markdown",
   "metadata": {},
   "source": [
    "https://www.upcounsel.com/exercise-stock-options\n",
    "\n",
    "https://en.wikipedia.org/wiki/Hyperparameter_optimization\n",
    "\n",
    "https://stackoverflow.com/questions/22903267/what-is-tuning-in-machine-learning\n"
   ]
  },
  {
   "cell_type": "code",
   "execution_count": null,
   "metadata": {
    "collapsed": true
   },
   "outputs": [],
   "source": []
  }
 ],
 "metadata": {
  "kernelspec": {
   "display_name": "Python [conda env:DataA]",
   "language": "python",
   "name": "conda-env-DataA-py"
  },
  "language_info": {
   "codemirror_mode": {
    "name": "ipython",
    "version": 2
   },
   "file_extension": ".py",
   "mimetype": "text/x-python",
   "name": "python",
   "nbconvert_exporter": "python",
   "pygments_lexer": "ipython2",
   "version": "2.7.13"
  }
 },
 "nbformat": 4,
 "nbformat_minor": 2
}
